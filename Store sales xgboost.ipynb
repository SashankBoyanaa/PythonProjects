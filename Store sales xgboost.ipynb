{
 "cells": [
  {
   "cell_type": "code",
   "execution_count": 3,
   "id": "6d7e238a-8615-43f7-88ed-c3e784bcaa8c",
   "metadata": {},
   "outputs": [],
   "source": [
    "import pandas as pd\n",
    "import numpy as np\n",
    "import xgboost as xgb\n",
    "from sklearn.metrics import mean_squared_log_error\n",
    "import warnings\n",
    "warnings.filterwarnings('ignore')"
   ]
  },
  {
   "cell_type": "code",
   "execution_count": 4,
   "id": "9213c49a-8bda-481c-9209-941660e0354b",
   "metadata": {},
   "outputs": [],
   "source": [
    "train_df = pd.read_csv('/Users/shanks/Downloads/store-sales-time-series-forecasting/train.csv')\n",
    "test_df = pd.read_csv('/Users/shanks/Downloads/store-sales-time-series-forecasting/test.csv')\n",
    "stores_df = pd.read_csv('/Users/shanks/Downloads/store-sales-time-series-forecasting/stores.csv')\n",
    "oil_df = pd.read_csv('/Users/shanks/Downloads/store-sales-time-series-forecasting/oil.csv')\n",
    "holidays_events_df = pd.read_csv('/Users/shanks/Downloads/store-sales-time-series-forecasting/holidays_events.csv')"
   ]
  },
  {
   "cell_type": "code",
   "execution_count": 5,
   "id": "2296b660-e5fd-4c38-820d-600a08dc4e2e",
   "metadata": {},
   "outputs": [],
   "source": [
    "def add_datepart(df, fldname):\n",
    "    fld = df[fldname]\n",
    "    df['Year'] = fld.dt.year\n",
    "    df['Month'] = fld.dt.month\n",
    "    df['Day'] = fld.dt.day\n",
    "    df['Dayofweek'] = fld.dt.dayofweek\n",
    "    df['Dayofyear'] = fld.dt.dayofyear\n",
    "    df['Is_month_start'] = fld.dt.is_month_start\n",
    "    df['Is_month_end'] = fld.dt.is_month_end\n",
    "    df['is_payday'] = (df['Day'] == 15) | (df['Is_month_end'])\n",
    "    return df"
   ]
  },
  {
   "cell_type": "code",
   "execution_count": 6,
   "id": "0a690b1b-b69e-426c-a035-3c3ff60529e5",
   "metadata": {},
   "outputs": [],
   "source": [
    "def process_df(df, holidays_df):\n",
    "    df['date'] = pd.to_datetime(df['date'])\n",
    "    df = add_datepart(df, 'date')\n",
    "\n",
    "    national_holidays = holidays_df[(holidays_df['transferred'] == False) & (holidays_df['locale'] == 'National')]\n",
    "    national_holidays['date'] = pd.to_datetime(national_holidays['date'])\n",
    "    df = pd.merge(df, national_holidays[['date', 'description']], on='date', how='left')\n",
    "    df.rename(columns={'description': 'national_holiday'}, inplace=True)\n",
    "\n",
    "    grouped = df.groupby(['store_nbr', 'family'])\n",
    "\n",
    "    for days in [7, 14, 28]:\n",
    "        df[f'sales_lag_{days}'] = grouped['sales'].transform(lambda x: x.shift(days))\n",
    "\n",
    "    for window in [7, 14, 28]:\n",
    "        df[f'sales_rolling_mean_{window}'] = grouped['sales'].transform(lambda x: x.shift(7).rolling(window).mean())\n",
    "        df[f'sales_rolling_std_{window}'] = grouped['sales'].transform(lambda x: x.shift(7).rolling(window).std())\n",
    "\n",
    "    df.fillna(0, inplace=True)\n",
    "\n",
    "    for col in df.select_dtypes('object').columns:\n",
    "        df[col] = df[col].astype('category')\n",
    "\n",
    "    return df"
   ]
  },
  {
   "cell_type": "code",
   "execution_count": 7,
   "id": "7692e094-2f21-4dc1-8e35-c0af9a186ff1",
   "metadata": {},
   "outputs": [],
   "source": [
    "def dow_mean_encoding(df):\n",
    "    mask = ~((df['date'].dt.month == 12) & (df['date'].dt.day >= 12) |\n",
    "             (df['date'].dt.month == 1) & (df['date'].dt.day <= 5))\n",
    "    filtered_df = df[mask]\n",
    "    filtered_df = filtered_df[filtered_df['date'] >= '2016-01-01']\n",
    "    aggregated_df = filtered_df.groupby(['store_nbr', 'family', 'Dayofweek'])['sales'].mean().reset_index()\n",
    "    aggregated_df.rename(columns={'sales': 'dow_mean_sales'}, inplace=True)\n",
    "    return pd.merge(df, aggregated_df, on=['store_nbr', 'family', 'Dayofweek'], how='left'), aggregated_df"
   ]
  },
  {
   "cell_type": "code",
   "execution_count": 8,
   "id": "46c92978-dfbc-4612-ba53-b0101b0809ea",
   "metadata": {},
   "outputs": [],
   "source": [
    "def holiday_mean_encoding(df):\n",
    "    aggregated_df = df.groupby(['store_nbr', 'family', 'national_holiday'])['sales'].mean().reset_index()\n",
    "    aggregated_df.rename(columns={'sales': 'holiday_mean_sales'}, inplace=True)\n",
    "    return pd.merge(df, aggregated_df, on=['store_nbr', 'family', 'national_holiday'], how='left'), aggregated_df\n",
    "\n",
    "train_df = pd.merge(train_df, stores_df, on='store_nbr', how='left')\n",
    "train_df = pd.merge(train_df, oil_df, on='date', how='left')\n",
    "train_df['dcoilwtico'].bfill(inplace=True)\n",
    "train_df['dcoilwtico_lag_1'] = train_df['dcoilwtico'].shift(1)\n",
    "\n",
    "train_processed_df = process_df(train_df, holidays_events_df)\n",
    "train_processed_df, dow_encoded_df = dow_mean_encoding(train_processed_df)\n",
    "train_processed_df, holiday_encoded_df = holiday_mean_encoding(train_processed_df)\n",
    "\n",
    "for col in train_processed_df.select_dtypes('category').columns:\n",
    "    train_processed_df[col] = train_processed_df[col].cat.codes\n",
    "\n",
    "train_test_date = pd.to_datetime('2017-08-01')"
   ]
  },
  {
   "cell_type": "code",
   "execution_count": 9,
   "id": "c2434e6d-d56e-47b5-ab99-c25d027e4445",
   "metadata": {},
   "outputs": [],
   "source": [
    "features = [\n",
    "    'onpromotion', 'store_nbr', 'dcoilwtico', 'dcoilwtico_lag_1',\n",
    "    'Year', 'Month', 'Day', 'Dayofweek',\n",
    "    'Is_month_start', 'Is_month_end', 'is_payday',\n",
    "    'sales_lag_7', 'sales_lag_14', 'sales_lag_28',\n",
    "    'sales_rolling_mean_7', 'sales_rolling_std_7',\n",
    "    'sales_rolling_mean_14', 'sales_rolling_std_14',\n",
    "    'sales_rolling_mean_28', 'sales_rolling_std_28',\n",
    "    'dow_mean_sales', 'holiday_mean_sales'\n",
    "]"
   ]
  },
  {
   "cell_type": "code",
   "execution_count": 10,
   "id": "7927d715-6800-42c3-a2ea-8a14da36df59",
   "metadata": {},
   "outputs": [],
   "source": [
    "train_filtered_df = train_processed_df[train_processed_df['date'] >= '2017-01-15']\n",
    "\n",
    "X_train = train_filtered_df[train_filtered_df['date'] < train_test_date][features]\n",
    "y_train = train_filtered_df[train_filtered_df['date'] < train_test_date]['sales']\n",
    "\n",
    "X_val = train_filtered_df[train_filtered_df['date'] >= train_test_date][features]\n",
    "y_val = train_filtered_df[train_filtered_df['date'] >= train_test_date]['sales']\n",
    "\n",
    "params = {\n",
    "    'objective': 'reg:squarederror',\n",
    "    'eval_metric': 'rmse',\n",
    "    'eta': 0.05,\n",
    "    'max_depth': 6,\n",
    "    'subsample': 0.8,\n",
    "    'colsample_bytree': 0.8,\n",
    "    'seed': 42\n",
    "}"
   ]
  },
  {
   "cell_type": "code",
   "execution_count": 11,
   "id": "04f9dff1-a128-4752-973c-ad5a9a504720",
   "metadata": {},
   "outputs": [
    {
     "name": "stdout",
     "output_type": "stream",
     "text": [
      "[0]\ttrain-rmse:1290.43192\tvalidation-rmse:1180.93043\n",
      "[100]\ttrain-rmse:206.05452\tvalidation-rmse:262.52771\n",
      "[152]\ttrain-rmse:191.58613\tvalidation-rmse:268.56739\n",
      "\n",
      "Validation RMSLE with XGBoost: 0.6388\n"
     ]
    }
   ],
   "source": [
    "dtrain = xgb.DMatrix(X_train, label=y_train)\n",
    "dval = xgb.DMatrix(X_val, label=y_val)\n",
    "\n",
    "evals = [(dtrain, 'train'), (dval, 'validation')]\n",
    "model = xgb.train(\n",
    "    params,\n",
    "    dtrain,\n",
    "    num_boost_round=1000,\n",
    "    evals=evals,\n",
    "    early_stopping_rounds=100,\n",
    "    verbose_eval=100\n",
    ")\n",
    "\n",
    "y_pred_val = model.predict(dval)\n",
    "y_pred_val[y_pred_val < 0] = 0\n",
    "rmsle_score = np.sqrt(mean_squared_log_error(y_val, y_pred_val))\n",
    "print(f\"\\nValidation RMSLE with XGBoost: {rmsle_score:.4f}\")"
   ]
  },
  {
   "cell_type": "code",
   "execution_count": 12,
   "id": "94257820-cfc7-4fd7-aadd-d897671489c7",
   "metadata": {},
   "outputs": [],
   "source": [
    "test_df = pd.merge(test_df, stores_df, on='store_nbr', how='left')\n",
    "test_df = pd.merge(test_df, oil_df, on='date', how='left')\n",
    "test_df['dcoilwtico'].bfill(inplace=True)\n",
    "test_df['dcoilwtico_lag_1'] = test_df['dcoilwtico'].shift(1)\n",
    "\n",
    "concatenated_df = pd.concat([train_df.drop(columns=stores_df.columns.drop('store_nbr')), test_df], ignore_index=True)\n",
    "\n",
    "feat_eng_test_df = process_df(concatenated_df, holidays_events_df)\n",
    "feat_eng_test_df = feat_eng_test_df[feat_eng_test_df['date'] >= test_df['date'].min()]\n",
    "\n",
    "feat_eng_test_df = pd.merge(feat_eng_test_df, dow_encoded_df, on=['store_nbr', 'family', 'Dayofweek'], how='left')\n",
    "feat_eng_test_df = pd.merge(feat_eng_test_df, holiday_encoded_df, on=['store_nbr', 'family', 'national_holiday'],\n",
    "                            how='left')\n",
    "\n",
    "for col in feat_eng_test_df.select_dtypes('category').columns:\n",
    "    feat_eng_test_df[col] = feat_eng_test_df[col].cat.codes\n",
    "\n",
    "feat_eng_test_df.fillna(0, inplace=True)\n",
    "\n",
    "X_test_sub = feat_eng_test_df[features]\n",
    "X_test_ids = feat_eng_test_df['id']"
   ]
  },
  {
   "cell_type": "code",
   "execution_count": 13,
   "id": "0ea10bf1-5a90-4897-8a82-d5c67cb71b21",
   "metadata": {},
   "outputs": [
    {
     "name": "stdout",
     "output_type": "stream",
     "text": [
      "\n",
      "Submission file 'submission4.csv' created successfully!\n"
     ]
    }
   ],
   "source": [
    "dtest = xgb.DMatrix(X_test_sub)\n",
    "final_predictions = model.predict(dtest)\n",
    "final_predictions[final_predictions < 0] = 0\n",
    "\n",
    "submission = pd.DataFrame({'id': X_test_ids, 'sales': final_predictions})\n",
    "submission.to_csv('submission4.csv', index=False)\n",
    "\n",
    "print(\"\\nSubmission file 'submission4.csv' created successfully!\")"
   ]
  }
 ],
 "metadata": {
  "kernelspec": {
   "display_name": "Python 3 (ipykernel)",
   "language": "python",
   "name": "python3"
  },
  "language_info": {
   "codemirror_mode": {
    "name": "ipython",
    "version": 3
   },
   "file_extension": ".py",
   "mimetype": "text/x-python",
   "name": "python",
   "nbconvert_exporter": "python",
   "pygments_lexer": "ipython3",
   "version": "3.11.5"
  }
 },
 "nbformat": 4,
 "nbformat_minor": 5
}
